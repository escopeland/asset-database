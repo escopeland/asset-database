{
 "nbformat": 4,
 "nbformat_minor": 2,
 "metadata": {
  "language_info": {
   "name": "python",
   "codemirror_mode": {
    "name": "ipython",
    "version": 3
   },
   "version": "3.8.1-final"
  },
  "orig_nbformat": 2,
  "file_extension": ".py",
  "mimetype": "text/x-python",
  "name": "python",
  "npconvert_exporter": "python",
  "pygments_lexer": "ipython3",
  "version": 3,
  "kernelspec": {
   "name": "python38164bit4edf03f24cb14434875568ca5f46cd36",
   "display_name": "Python 3.8.1 64-bit"
  }
 },
 "cells": [
  {
   "cell_type": "code",
   "execution_count": 1,
   "metadata": {},
   "outputs": [],
   "source": [
    "import pandas as pd"
   ]
  },
  {
   "cell_type": "code",
   "execution_count": 2,
   "metadata": {},
   "outputs": [],
   "source": [
    "from tiingo import TiingoClient"
   ]
  },
  {
   "cell_type": "code",
   "execution_count": 3,
   "metadata": {},
   "outputs": [],
   "source": [
    "client = TiingoClient(dict([('session', True), ('api_key', '8030e3d38e86f3d454e32f22ab068667baf38d0a')]))"
   ]
  },
  {
   "cell_type": "code",
   "execution_count": 5,
   "metadata": {},
   "outputs": [],
   "source": [
    "df1 = client.get_dataframe('VGSLX', startDate='2020-01-05', endDate='2020-01-10', frequency='daily')"
   ]
  },
  {
   "cell_type": "code",
   "execution_count": 6,
   "metadata": {},
   "outputs": [],
   "source": [
    "df2 = client.get_dataframe('VGSLX', startDate='2020-01-11', endDate='2020-01-14', frequency='daily')"
   ]
  },
  {
   "cell_type": "code",
   "execution_count": 101,
   "metadata": {},
   "outputs": [],
   "source": [
    "dfconcat = pd.concat([df1, df2])"
   ]
  },
  {
   "cell_type": "code",
   "execution_count": 103,
   "metadata": {},
   "outputs": [
    {
     "data": {
      "text/html": "<div>\n<style scoped>\n    .dataframe tbody tr th:only-of-type {\n        vertical-align: middle;\n    }\n\n    .dataframe tbody tr th {\n        vertical-align: top;\n    }\n\n    .dataframe thead th {\n        text-align: right;\n    }\n</style>\n<table border=\"1\" class=\"dataframe\">\n  <thead>\n    <tr style=\"text-align: right;\">\n      <th></th>\n      <th>close</th>\n      <th>high</th>\n      <th>low</th>\n      <th>open</th>\n      <th>volume</th>\n      <th>adjClose</th>\n      <th>adjHigh</th>\n      <th>adjLow</th>\n      <th>adjOpen</th>\n      <th>adjVolume</th>\n      <th>divCash</th>\n      <th>splitFactor</th>\n    </tr>\n    <tr>\n      <th>date</th>\n      <th></th>\n      <th></th>\n      <th></th>\n      <th></th>\n      <th></th>\n      <th></th>\n      <th></th>\n      <th></th>\n      <th></th>\n      <th></th>\n      <th></th>\n      <th></th>\n    </tr>\n  </thead>\n  <tbody>\n    <tr>\n      <th>2020-01-06 00:00:00+00:00</th>\n      <td>130.90</td>\n      <td>130.90</td>\n      <td>130.90</td>\n      <td>130.90</td>\n      <td>0</td>\n      <td>130.90</td>\n      <td>130.90</td>\n      <td>130.90</td>\n      <td>130.90</td>\n      <td>0</td>\n      <td>0.0</td>\n      <td>1.0</td>\n    </tr>\n    <tr>\n      <th>2020-01-07 00:00:00+00:00</th>\n      <td>129.37</td>\n      <td>129.37</td>\n      <td>129.37</td>\n      <td>129.37</td>\n      <td>0</td>\n      <td>129.37</td>\n      <td>129.37</td>\n      <td>129.37</td>\n      <td>129.37</td>\n      <td>0</td>\n      <td>0.0</td>\n      <td>1.0</td>\n    </tr>\n    <tr>\n      <th>2020-01-08 00:00:00+00:00</th>\n      <td>129.85</td>\n      <td>129.85</td>\n      <td>129.85</td>\n      <td>129.85</td>\n      <td>0</td>\n      <td>129.85</td>\n      <td>129.85</td>\n      <td>129.85</td>\n      <td>129.85</td>\n      <td>0</td>\n      <td>0.0</td>\n      <td>1.0</td>\n    </tr>\n    <tr>\n      <th>2020-01-09 00:00:00+00:00</th>\n      <td>129.83</td>\n      <td>129.83</td>\n      <td>129.83</td>\n      <td>129.83</td>\n      <td>0</td>\n      <td>129.83</td>\n      <td>129.83</td>\n      <td>129.83</td>\n      <td>129.83</td>\n      <td>0</td>\n      <td>0.0</td>\n      <td>1.0</td>\n    </tr>\n    <tr>\n      <th>2020-01-10 00:00:00+00:00</th>\n      <td>130.85</td>\n      <td>130.85</td>\n      <td>130.85</td>\n      <td>130.85</td>\n      <td>0</td>\n      <td>130.85</td>\n      <td>130.85</td>\n      <td>130.85</td>\n      <td>130.85</td>\n      <td>0</td>\n      <td>0.0</td>\n      <td>1.0</td>\n    </tr>\n    <tr>\n      <th>2020-01-10 00:00:00+00:00</th>\n      <td>130.85</td>\n      <td>130.85</td>\n      <td>130.85</td>\n      <td>130.85</td>\n      <td>0</td>\n      <td>130.85</td>\n      <td>130.85</td>\n      <td>130.85</td>\n      <td>130.85</td>\n      <td>0</td>\n      <td>0.0</td>\n      <td>1.0</td>\n    </tr>\n    <tr>\n      <th>2020-01-13 00:00:00+00:00</th>\n      <td>132.36</td>\n      <td>132.36</td>\n      <td>132.36</td>\n      <td>132.36</td>\n      <td>0</td>\n      <td>132.36</td>\n      <td>132.36</td>\n      <td>132.36</td>\n      <td>132.36</td>\n      <td>0</td>\n      <td>0.0</td>\n      <td>1.0</td>\n    </tr>\n    <tr>\n      <th>2020-01-14 00:00:00+00:00</th>\n      <td>131.86</td>\n      <td>131.86</td>\n      <td>131.86</td>\n      <td>131.86</td>\n      <td>0</td>\n      <td>131.86</td>\n      <td>131.86</td>\n      <td>131.86</td>\n      <td>131.86</td>\n      <td>0</td>\n      <td>0.0</td>\n      <td>1.0</td>\n    </tr>\n  </tbody>\n</table>\n</div>",
      "text/plain": "                            close    high     low    open  volume  adjClose  \\\ndate                                                                          \n2020-01-06 00:00:00+00:00  130.90  130.90  130.90  130.90       0    130.90   \n2020-01-07 00:00:00+00:00  129.37  129.37  129.37  129.37       0    129.37   \n2020-01-08 00:00:00+00:00  129.85  129.85  129.85  129.85       0    129.85   \n2020-01-09 00:00:00+00:00  129.83  129.83  129.83  129.83       0    129.83   \n2020-01-10 00:00:00+00:00  130.85  130.85  130.85  130.85       0    130.85   \n2020-01-10 00:00:00+00:00  130.85  130.85  130.85  130.85       0    130.85   \n2020-01-13 00:00:00+00:00  132.36  132.36  132.36  132.36       0    132.36   \n2020-01-14 00:00:00+00:00  131.86  131.86  131.86  131.86       0    131.86   \n\n                           adjHigh  adjLow  adjOpen  adjVolume  divCash  \\\ndate                                                                      \n2020-01-06 00:00:00+00:00   130.90  130.90   130.90          0      0.0   \n2020-01-07 00:00:00+00:00   129.37  129.37   129.37          0      0.0   \n2020-01-08 00:00:00+00:00   129.85  129.85   129.85          0      0.0   \n2020-01-09 00:00:00+00:00   129.83  129.83   129.83          0      0.0   \n2020-01-10 00:00:00+00:00   130.85  130.85   130.85          0      0.0   \n2020-01-10 00:00:00+00:00   130.85  130.85   130.85          0      0.0   \n2020-01-13 00:00:00+00:00   132.36  132.36   132.36          0      0.0   \n2020-01-14 00:00:00+00:00   131.86  131.86   131.86          0      0.0   \n\n                           splitFactor  \ndate                                    \n2020-01-06 00:00:00+00:00          1.0  \n2020-01-07 00:00:00+00:00          1.0  \n2020-01-08 00:00:00+00:00          1.0  \n2020-01-09 00:00:00+00:00          1.0  \n2020-01-10 00:00:00+00:00          1.0  \n2020-01-10 00:00:00+00:00          1.0  \n2020-01-13 00:00:00+00:00          1.0  \n2020-01-14 00:00:00+00:00          1.0  "
     },
     "execution_count": 103,
     "metadata": {},
     "output_type": "execute_result"
    }
   ],
   "source": [
    "df1.append(df2)"
   ]
  },
  {
   "cell_type": "code",
   "execution_count": 32,
   "metadata": {},
   "outputs": [
    {
     "data": {
      "text/plain": "True"
     },
     "execution_count": 32,
     "metadata": {},
     "output_type": "execute_result"
    }
   ],
   "source": [
    "'2020-01-06 00:00:00+00:00' in df.index"
   ]
  },
  {
   "cell_type": "code",
   "execution_count": 73,
   "metadata": {},
   "outputs": [],
   "source": [
    "df.at['2020-01-06 00:00:00+00:00', field] = 160"
   ]
  },
  {
   "cell_type": "code",
   "execution_count": 50,
   "metadata": {},
   "outputs": [],
   "source": [
    "df.at['2020-01-06 00:00:00+00:00', 'newcol'] = 150"
   ]
  },
  {
   "cell_type": "code",
   "execution_count": 74,
   "metadata": {},
   "outputs": [
    {
     "data": {
      "text/html": "<div>\n<style scoped>\n    .dataframe tbody tr th:only-of-type {\n        vertical-align: middle;\n    }\n\n    .dataframe tbody tr th {\n        vertical-align: top;\n    }\n\n    .dataframe thead th {\n        text-align: right;\n    }\n</style>\n<table border=\"1\" class=\"dataframe\">\n  <thead>\n    <tr style=\"text-align: right;\">\n      <th></th>\n      <th>close</th>\n      <th>high</th>\n      <th>low</th>\n      <th>open</th>\n      <th>volume</th>\n      <th>adjClose</th>\n      <th>adjHigh</th>\n      <th>adjLow</th>\n      <th>adjOpen</th>\n      <th>adjVolume</th>\n      <th>divCash</th>\n      <th>splitFactor</th>\n      <th>newcol</th>\n    </tr>\n    <tr>\n      <th>date</th>\n      <th></th>\n      <th></th>\n      <th></th>\n      <th></th>\n      <th></th>\n      <th></th>\n      <th></th>\n      <th></th>\n      <th></th>\n      <th></th>\n      <th></th>\n      <th></th>\n      <th></th>\n    </tr>\n  </thead>\n  <tbody>\n    <tr>\n      <th>2020-01-06 00:00:00+00:00</th>\n      <td>160.00</td>\n      <td>130.90</td>\n      <td>130.90</td>\n      <td>130.90</td>\n      <td>0</td>\n      <td>130.90</td>\n      <td>130.90</td>\n      <td>130.90</td>\n      <td>130.90</td>\n      <td>0</td>\n      <td>0.0</td>\n      <td>1.0</td>\n      <td>150.0</td>\n    </tr>\n    <tr>\n      <th>2020-01-07 00:00:00+00:00</th>\n      <td>129.37</td>\n      <td>129.37</td>\n      <td>129.37</td>\n      <td>129.37</td>\n      <td>0</td>\n      <td>129.37</td>\n      <td>129.37</td>\n      <td>129.37</td>\n      <td>129.37</td>\n      <td>0</td>\n      <td>0.0</td>\n      <td>1.0</td>\n      <td>NaN</td>\n    </tr>\n    <tr>\n      <th>2020-01-08 00:00:00+00:00</th>\n      <td>129.85</td>\n      <td>129.85</td>\n      <td>129.85</td>\n      <td>129.85</td>\n      <td>0</td>\n      <td>129.85</td>\n      <td>129.85</td>\n      <td>129.85</td>\n      <td>129.85</td>\n      <td>0</td>\n      <td>0.0</td>\n      <td>1.0</td>\n      <td>NaN</td>\n    </tr>\n    <tr>\n      <th>2020-01-09 00:00:00+00:00</th>\n      <td>129.83</td>\n      <td>129.83</td>\n      <td>129.83</td>\n      <td>129.83</td>\n      <td>0</td>\n      <td>129.83</td>\n      <td>129.83</td>\n      <td>129.83</td>\n      <td>129.83</td>\n      <td>0</td>\n      <td>0.0</td>\n      <td>1.0</td>\n      <td>NaN</td>\n    </tr>\n    <tr>\n      <th>2020-01-10 00:00:00+00:00</th>\n      <td>130.85</td>\n      <td>130.85</td>\n      <td>130.85</td>\n      <td>130.85</td>\n      <td>0</td>\n      <td>130.85</td>\n      <td>130.85</td>\n      <td>130.85</td>\n      <td>130.85</td>\n      <td>0</td>\n      <td>0.0</td>\n      <td>1.0</td>\n      <td>NaN</td>\n    </tr>\n    <tr>\n      <th>2020-01-13 00:00:00+00:00</th>\n      <td>132.36</td>\n      <td>132.36</td>\n      <td>132.36</td>\n      <td>132.36</td>\n      <td>0</td>\n      <td>132.36</td>\n      <td>132.36</td>\n      <td>132.36</td>\n      <td>132.36</td>\n      <td>0</td>\n      <td>0.0</td>\n      <td>1.0</td>\n      <td>NaN</td>\n    </tr>\n    <tr>\n      <th>2020-01-14 00:00:00+00:00</th>\n      <td>131.86</td>\n      <td>131.86</td>\n      <td>131.86</td>\n      <td>131.86</td>\n      <td>0</td>\n      <td>131.86</td>\n      <td>131.86</td>\n      <td>131.86</td>\n      <td>131.86</td>\n      <td>0</td>\n      <td>0.0</td>\n      <td>1.0</td>\n      <td>NaN</td>\n    </tr>\n  </tbody>\n</table>\n</div>",
      "text/plain": "                            close    high     low    open  volume  adjClose  \\\ndate                                                                          \n2020-01-06 00:00:00+00:00  160.00  130.90  130.90  130.90       0    130.90   \n2020-01-07 00:00:00+00:00  129.37  129.37  129.37  129.37       0    129.37   \n2020-01-08 00:00:00+00:00  129.85  129.85  129.85  129.85       0    129.85   \n2020-01-09 00:00:00+00:00  129.83  129.83  129.83  129.83       0    129.83   \n2020-01-10 00:00:00+00:00  130.85  130.85  130.85  130.85       0    130.85   \n2020-01-13 00:00:00+00:00  132.36  132.36  132.36  132.36       0    132.36   \n2020-01-14 00:00:00+00:00  131.86  131.86  131.86  131.86       0    131.86   \n\n                           adjHigh  adjLow  adjOpen  adjVolume  divCash  \\\ndate                                                                      \n2020-01-06 00:00:00+00:00   130.90  130.90   130.90          0      0.0   \n2020-01-07 00:00:00+00:00   129.37  129.37   129.37          0      0.0   \n2020-01-08 00:00:00+00:00   129.85  129.85   129.85          0      0.0   \n2020-01-09 00:00:00+00:00   129.83  129.83   129.83          0      0.0   \n2020-01-10 00:00:00+00:00   130.85  130.85   130.85          0      0.0   \n2020-01-13 00:00:00+00:00   132.36  132.36   132.36          0      0.0   \n2020-01-14 00:00:00+00:00   131.86  131.86   131.86          0      0.0   \n\n                           splitFactor  newcol  \ndate                                            \n2020-01-06 00:00:00+00:00          1.0   150.0  \n2020-01-07 00:00:00+00:00          1.0     NaN  \n2020-01-08 00:00:00+00:00          1.0     NaN  \n2020-01-09 00:00:00+00:00          1.0     NaN  \n2020-01-10 00:00:00+00:00          1.0     NaN  \n2020-01-13 00:00:00+00:00          1.0     NaN  \n2020-01-14 00:00:00+00:00          1.0     NaN  "
     },
     "execution_count": 74,
     "metadata": {},
     "output_type": "execute_result"
    }
   ],
   "source": [
    "df"
   ]
  },
  {
   "cell_type": "code",
   "execution_count": 69,
   "metadata": {},
   "outputs": [],
   "source": [
    "ndf = pd.DataFrame({'date': ['2020-01-15 00:00:00+00:00'], 'close': [160]}).set_index('date')"
   ]
  },
  {
   "cell_type": "code",
   "execution_count": 59,
   "metadata": {},
   "outputs": [
    {
     "data": {
      "text/html": "<div>\n<style scoped>\n    .dataframe tbody tr th:only-of-type {\n        vertical-align: middle;\n    }\n\n    .dataframe tbody tr th {\n        vertical-align: top;\n    }\n\n    .dataframe thead th {\n        text-align: right;\n    }\n</style>\n<table border=\"1\" class=\"dataframe\">\n  <thead>\n    <tr style=\"text-align: right;\">\n      <th></th>\n      <th>close</th>\n    </tr>\n    <tr>\n      <th>date</th>\n      <th></th>\n    </tr>\n  </thead>\n  <tbody>\n    <tr>\n      <th>2020-01-15 00:00:00+00:00</th>\n      <td>160</td>\n    </tr>\n  </tbody>\n</table>\n</div>",
      "text/plain": "                           close\ndate                            \n2020-01-15 00:00:00+00:00    160"
     },
     "execution_count": 59,
     "metadata": {},
     "output_type": "execute_result"
    }
   ],
   "source": [
    "ndf"
   ]
  },
  {
   "cell_type": "code",
   "execution_count": 65,
   "metadata": {},
   "outputs": [
    {
     "data": {
      "text/html": "<div>\n<style scoped>\n    .dataframe tbody tr th:only-of-type {\n        vertical-align: middle;\n    }\n\n    .dataframe tbody tr th {\n        vertical-align: top;\n    }\n\n    .dataframe thead th {\n        text-align: right;\n    }\n</style>\n<table border=\"1\" class=\"dataframe\">\n  <thead>\n    <tr style=\"text-align: right;\">\n      <th></th>\n      <th>adjClose</th>\n      <th>adjHigh</th>\n      <th>adjLow</th>\n      <th>adjOpen</th>\n      <th>adjVolume</th>\n      <th>close</th>\n      <th>divCash</th>\n      <th>high</th>\n      <th>low</th>\n      <th>newcol</th>\n      <th>open</th>\n      <th>splitFactor</th>\n      <th>volume</th>\n    </tr>\n    <tr>\n      <th>date</th>\n      <th></th>\n      <th></th>\n      <th></th>\n      <th></th>\n      <th></th>\n      <th></th>\n      <th></th>\n      <th></th>\n      <th></th>\n      <th></th>\n      <th></th>\n      <th></th>\n      <th></th>\n    </tr>\n  </thead>\n  <tbody>\n    <tr>\n      <th>2020-01-06 00:00:00+00:00</th>\n      <td>130.90</td>\n      <td>130.90</td>\n      <td>130.90</td>\n      <td>130.90</td>\n      <td>0.0</td>\n      <td>150.00</td>\n      <td>0.0</td>\n      <td>130.90</td>\n      <td>130.90</td>\n      <td>150.0</td>\n      <td>130.90</td>\n      <td>1.0</td>\n      <td>0.0</td>\n    </tr>\n    <tr>\n      <th>2020-01-07 00:00:00+00:00</th>\n      <td>129.37</td>\n      <td>129.37</td>\n      <td>129.37</td>\n      <td>129.37</td>\n      <td>0.0</td>\n      <td>129.37</td>\n      <td>0.0</td>\n      <td>129.37</td>\n      <td>129.37</td>\n      <td>NaN</td>\n      <td>129.37</td>\n      <td>1.0</td>\n      <td>0.0</td>\n    </tr>\n    <tr>\n      <th>2020-01-08 00:00:00+00:00</th>\n      <td>129.85</td>\n      <td>129.85</td>\n      <td>129.85</td>\n      <td>129.85</td>\n      <td>0.0</td>\n      <td>129.85</td>\n      <td>0.0</td>\n      <td>129.85</td>\n      <td>129.85</td>\n      <td>NaN</td>\n      <td>129.85</td>\n      <td>1.0</td>\n      <td>0.0</td>\n    </tr>\n    <tr>\n      <th>2020-01-09 00:00:00+00:00</th>\n      <td>129.83</td>\n      <td>129.83</td>\n      <td>129.83</td>\n      <td>129.83</td>\n      <td>0.0</td>\n      <td>129.83</td>\n      <td>0.0</td>\n      <td>129.83</td>\n      <td>129.83</td>\n      <td>NaN</td>\n      <td>129.83</td>\n      <td>1.0</td>\n      <td>0.0</td>\n    </tr>\n    <tr>\n      <th>2020-01-10 00:00:00+00:00</th>\n      <td>130.85</td>\n      <td>130.85</td>\n      <td>130.85</td>\n      <td>130.85</td>\n      <td>0.0</td>\n      <td>130.85</td>\n      <td>0.0</td>\n      <td>130.85</td>\n      <td>130.85</td>\n      <td>NaN</td>\n      <td>130.85</td>\n      <td>1.0</td>\n      <td>0.0</td>\n    </tr>\n    <tr>\n      <th>2020-01-13 00:00:00+00:00</th>\n      <td>132.36</td>\n      <td>132.36</td>\n      <td>132.36</td>\n      <td>132.36</td>\n      <td>0.0</td>\n      <td>132.36</td>\n      <td>0.0</td>\n      <td>132.36</td>\n      <td>132.36</td>\n      <td>NaN</td>\n      <td>132.36</td>\n      <td>1.0</td>\n      <td>0.0</td>\n    </tr>\n    <tr>\n      <th>2020-01-14 00:00:00+00:00</th>\n      <td>131.86</td>\n      <td>131.86</td>\n      <td>131.86</td>\n      <td>131.86</td>\n      <td>0.0</td>\n      <td>131.86</td>\n      <td>0.0</td>\n      <td>131.86</td>\n      <td>131.86</td>\n      <td>NaN</td>\n      <td>131.86</td>\n      <td>1.0</td>\n      <td>0.0</td>\n    </tr>\n    <tr>\n      <th>2020-01-15 00:00:00+00:00</th>\n      <td>NaN</td>\n      <td>NaN</td>\n      <td>NaN</td>\n      <td>NaN</td>\n      <td>NaN</td>\n      <td>160.00</td>\n      <td>NaN</td>\n      <td>NaN</td>\n      <td>NaN</td>\n      <td>NaN</td>\n      <td>NaN</td>\n      <td>NaN</td>\n      <td>NaN</td>\n    </tr>\n  </tbody>\n</table>\n</div>",
      "text/plain": "                           adjClose  adjHigh  adjLow  adjOpen  adjVolume  \\\ndate                                                                       \n2020-01-06 00:00:00+00:00    130.90   130.90  130.90   130.90        0.0   \n2020-01-07 00:00:00+00:00    129.37   129.37  129.37   129.37        0.0   \n2020-01-08 00:00:00+00:00    129.85   129.85  129.85   129.85        0.0   \n2020-01-09 00:00:00+00:00    129.83   129.83  129.83   129.83        0.0   \n2020-01-10 00:00:00+00:00    130.85   130.85  130.85   130.85        0.0   \n2020-01-13 00:00:00+00:00    132.36   132.36  132.36   132.36        0.0   \n2020-01-14 00:00:00+00:00    131.86   131.86  131.86   131.86        0.0   \n2020-01-15 00:00:00+00:00       NaN      NaN     NaN      NaN        NaN   \n\n                            close  divCash    high     low  newcol    open  \\\ndate                                                                         \n2020-01-06 00:00:00+00:00  150.00      0.0  130.90  130.90   150.0  130.90   \n2020-01-07 00:00:00+00:00  129.37      0.0  129.37  129.37     NaN  129.37   \n2020-01-08 00:00:00+00:00  129.85      0.0  129.85  129.85     NaN  129.85   \n2020-01-09 00:00:00+00:00  129.83      0.0  129.83  129.83     NaN  129.83   \n2020-01-10 00:00:00+00:00  130.85      0.0  130.85  130.85     NaN  130.85   \n2020-01-13 00:00:00+00:00  132.36      0.0  132.36  132.36     NaN  132.36   \n2020-01-14 00:00:00+00:00  131.86      0.0  131.86  131.86     NaN  131.86   \n2020-01-15 00:00:00+00:00  160.00      NaN     NaN     NaN     NaN     NaN   \n\n                           splitFactor  volume  \ndate                                            \n2020-01-06 00:00:00+00:00          1.0     0.0  \n2020-01-07 00:00:00+00:00          1.0     0.0  \n2020-01-08 00:00:00+00:00          1.0     0.0  \n2020-01-09 00:00:00+00:00          1.0     0.0  \n2020-01-10 00:00:00+00:00          1.0     0.0  \n2020-01-13 00:00:00+00:00          1.0     0.0  \n2020-01-14 00:00:00+00:00          1.0     0.0  \n2020-01-15 00:00:00+00:00          NaN     NaN  "
     },
     "execution_count": 65,
     "metadata": {},
     "output_type": "execute_result"
    }
   ],
   "source": [
    "df.append(ndf, sort='False')"
   ]
  },
  {
   "cell_type": "code",
   "execution_count": 67,
   "metadata": {},
   "outputs": [
    {
     "data": {
      "text/html": "<div>\n<style scoped>\n    .dataframe tbody tr th:only-of-type {\n        vertical-align: middle;\n    }\n\n    .dataframe tbody tr th {\n        vertical-align: top;\n    }\n\n    .dataframe thead th {\n        text-align: right;\n    }\n</style>\n<table border=\"1\" class=\"dataframe\">\n  <thead>\n    <tr style=\"text-align: right;\">\n      <th></th>\n      <th>close</th>\n    </tr>\n    <tr>\n      <th>date</th>\n      <th></th>\n    </tr>\n  </thead>\n  <tbody>\n    <tr>\n      <th>2020-01-15 00:00:00+00:00</th>\n      <td>160</td>\n    </tr>\n  </tbody>\n</table>\n</div>",
      "text/plain": "                           close\ndate                            \n2020-01-15 00:00:00+00:00    160"
     },
     "execution_count": 67,
     "metadata": {},
     "output_type": "execute_result"
    }
   ],
   "source": [
    "pd.DataFrame().append(ndf, sort='False')"
   ]
  },
  {
   "cell_type": "code",
   "execution_count": 71,
   "metadata": {},
   "outputs": [],
   "source": [
    "field = 'close'"
   ]
  },
  {
   "cell_type": "code",
   "execution_count": 72,
   "metadata": {},
   "outputs": [
    {
     "data": {
      "text/plain": "'close'"
     },
     "execution_count": 72,
     "metadata": {},
     "output_type": "execute_result"
    }
   ],
   "source": [
    "field"
   ]
  },
  {
   "cell_type": "code",
   "execution_count": 75,
   "metadata": {},
   "outputs": [
    {
     "data": {
      "text/html": "<div>\n<style scoped>\n    .dataframe tbody tr th:only-of-type {\n        vertical-align: middle;\n    }\n\n    .dataframe tbody tr th {\n        vertical-align: top;\n    }\n\n    .dataframe thead th {\n        text-align: right;\n    }\n</style>\n<table border=\"1\" class=\"dataframe\">\n  <thead>\n    <tr style=\"text-align: right;\">\n      <th></th>\n      <th>close</th>\n      <th>high</th>\n      <th>low</th>\n      <th>open</th>\n      <th>volume</th>\n      <th>adjClose</th>\n      <th>adjHigh</th>\n      <th>adjLow</th>\n      <th>adjOpen</th>\n      <th>adjVolume</th>\n      <th>divCash</th>\n      <th>splitFactor</th>\n      <th>newcol</th>\n    </tr>\n    <tr>\n      <th>date</th>\n      <th></th>\n      <th></th>\n      <th></th>\n      <th></th>\n      <th></th>\n      <th></th>\n      <th></th>\n      <th></th>\n      <th></th>\n      <th></th>\n      <th></th>\n      <th></th>\n      <th></th>\n    </tr>\n  </thead>\n  <tbody>\n    <tr>\n      <th>2020-01-06 00:00:00+00:00</th>\n      <td>160.00</td>\n      <td>130.90</td>\n      <td>130.90</td>\n      <td>130.90</td>\n      <td>0</td>\n      <td>130.90</td>\n      <td>130.90</td>\n      <td>130.90</td>\n      <td>130.90</td>\n      <td>0</td>\n      <td>0.0</td>\n      <td>1.0</td>\n      <td>150.0</td>\n    </tr>\n    <tr>\n      <th>2020-01-07 00:00:00+00:00</th>\n      <td>129.37</td>\n      <td>129.37</td>\n      <td>129.37</td>\n      <td>129.37</td>\n      <td>0</td>\n      <td>129.37</td>\n      <td>129.37</td>\n      <td>129.37</td>\n      <td>129.37</td>\n      <td>0</td>\n      <td>0.0</td>\n      <td>1.0</td>\n      <td>NaN</td>\n    </tr>\n    <tr>\n      <th>2020-01-08 00:00:00+00:00</th>\n      <td>129.85</td>\n      <td>129.85</td>\n      <td>129.85</td>\n      <td>129.85</td>\n      <td>0</td>\n      <td>129.85</td>\n      <td>129.85</td>\n      <td>129.85</td>\n      <td>129.85</td>\n      <td>0</td>\n      <td>0.0</td>\n      <td>1.0</td>\n      <td>NaN</td>\n    </tr>\n    <tr>\n      <th>2020-01-09 00:00:00+00:00</th>\n      <td>129.83</td>\n      <td>129.83</td>\n      <td>129.83</td>\n      <td>129.83</td>\n      <td>0</td>\n      <td>129.83</td>\n      <td>129.83</td>\n      <td>129.83</td>\n      <td>129.83</td>\n      <td>0</td>\n      <td>0.0</td>\n      <td>1.0</td>\n      <td>NaN</td>\n    </tr>\n    <tr>\n      <th>2020-01-10 00:00:00+00:00</th>\n      <td>130.85</td>\n      <td>130.85</td>\n      <td>130.85</td>\n      <td>130.85</td>\n      <td>0</td>\n      <td>130.85</td>\n      <td>130.85</td>\n      <td>130.85</td>\n      <td>130.85</td>\n      <td>0</td>\n      <td>0.0</td>\n      <td>1.0</td>\n      <td>NaN</td>\n    </tr>\n    <tr>\n      <th>2020-01-13 00:00:00+00:00</th>\n      <td>132.36</td>\n      <td>132.36</td>\n      <td>132.36</td>\n      <td>132.36</td>\n      <td>0</td>\n      <td>132.36</td>\n      <td>132.36</td>\n      <td>132.36</td>\n      <td>132.36</td>\n      <td>0</td>\n      <td>0.0</td>\n      <td>1.0</td>\n      <td>NaN</td>\n    </tr>\n    <tr>\n      <th>2020-01-14 00:00:00+00:00</th>\n      <td>131.86</td>\n      <td>131.86</td>\n      <td>131.86</td>\n      <td>131.86</td>\n      <td>0</td>\n      <td>131.86</td>\n      <td>131.86</td>\n      <td>131.86</td>\n      <td>131.86</td>\n      <td>0</td>\n      <td>0.0</td>\n      <td>1.0</td>\n      <td>NaN</td>\n    </tr>\n  </tbody>\n</table>\n</div>",
      "text/plain": "                            close    high     low    open  volume  adjClose  \\\ndate                                                                          \n2020-01-06 00:00:00+00:00  160.00  130.90  130.90  130.90       0    130.90   \n2020-01-07 00:00:00+00:00  129.37  129.37  129.37  129.37       0    129.37   \n2020-01-08 00:00:00+00:00  129.85  129.85  129.85  129.85       0    129.85   \n2020-01-09 00:00:00+00:00  129.83  129.83  129.83  129.83       0    129.83   \n2020-01-10 00:00:00+00:00  130.85  130.85  130.85  130.85       0    130.85   \n2020-01-13 00:00:00+00:00  132.36  132.36  132.36  132.36       0    132.36   \n2020-01-14 00:00:00+00:00  131.86  131.86  131.86  131.86       0    131.86   \n\n                           adjHigh  adjLow  adjOpen  adjVolume  divCash  \\\ndate                                                                      \n2020-01-06 00:00:00+00:00   130.90  130.90   130.90          0      0.0   \n2020-01-07 00:00:00+00:00   129.37  129.37   129.37          0      0.0   \n2020-01-08 00:00:00+00:00   129.85  129.85   129.85          0      0.0   \n2020-01-09 00:00:00+00:00   129.83  129.83   129.83          0      0.0   \n2020-01-10 00:00:00+00:00   130.85  130.85   130.85          0      0.0   \n2020-01-13 00:00:00+00:00   132.36  132.36   132.36          0      0.0   \n2020-01-14 00:00:00+00:00   131.86  131.86   131.86          0      0.0   \n\n                           splitFactor  newcol  \ndate                                            \n2020-01-06 00:00:00+00:00          1.0   150.0  \n2020-01-07 00:00:00+00:00          1.0     NaN  \n2020-01-08 00:00:00+00:00          1.0     NaN  \n2020-01-09 00:00:00+00:00          1.0     NaN  \n2020-01-10 00:00:00+00:00          1.0     NaN  \n2020-01-13 00:00:00+00:00          1.0     NaN  \n2020-01-14 00:00:00+00:00          1.0     NaN  "
     },
     "execution_count": 75,
     "metadata": {},
     "output_type": "execute_result"
    }
   ],
   "source": [
    "df"
   ]
  },
  {
   "cell_type": "code",
   "execution_count": 79,
   "metadata": {},
   "outputs": [
    {
     "name": "stdout",
     "output_type": "stream",
     "text": "2020-01-20\n"
    }
   ],
   "source": [
    "print(datetime.datetime.strptime('2020-01-20', '%Y-%m-%d').date())"
   ]
  },
  {
   "cell_type": "code",
   "execution_count": 87,
   "metadata": {},
   "outputs": [
    {
     "data": {
      "text/plain": "True"
     },
     "execution_count": 87,
     "metadata": {},
     "output_type": "execute_result"
    }
   ],
   "source": [
    "pd.to_datetime('2020-01-13', utc=True) in df.index"
   ]
  },
  {
   "cell_type": "code",
   "execution_count": 89,
   "metadata": {},
   "outputs": [
    {
     "data": {
      "text/plain": "False"
     },
     "execution_count": 89,
     "metadata": {},
     "output_type": "execute_result"
    }
   ],
   "source": [
    "datetime.datetime.strptime('2020-01-20', '%Y-%m-%d').date() in df.index"
   ]
  },
  {
   "cell_type": "code",
   "execution_count": 94,
   "metadata": {},
   "outputs": [
    {
     "data": {
      "text/plain": "(Timestamp('2020-01-13 00:00:00+0000', tz='UTC'),\n Timestamp('2020-01-13 00:00:00'))"
     },
     "execution_count": 94,
     "metadata": {},
     "output_type": "execute_result"
    }
   ],
   "source": [
    "pd.to_datetime('2020-01-13', utc=True), pd.to_datetime('2020-01-13')"
   ]
  },
  {
   "cell_type": "code",
   "execution_count": 99,
   "metadata": {},
   "outputs": [
    {
     "data": {
      "text/plain": "False"
     },
     "execution_count": 99,
     "metadata": {},
     "output_type": "execute_result"
    }
   ],
   "source": [
    "'2020-01-13' <= '2019-01-12'"
   ]
  },
  {
   "cell_type": "code",
   "execution_count": null,
   "metadata": {},
   "outputs": [],
   "source": []
  }
 ]
}